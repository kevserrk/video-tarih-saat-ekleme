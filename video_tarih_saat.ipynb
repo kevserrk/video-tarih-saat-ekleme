{
 "cells": [
  {
   "cell_type": "code",
   "execution_count": 1,
   "id": "6dfd3d40-cf34-46b7-a352-0cb7146d3471",
   "metadata": {
    "scrolled": true
   },
   "outputs": [
    {
     "name": "stdout",
     "output_type": "stream",
     "text": [
      "Requirement already satisfied: opencv-python in /Library/Frameworks/Python.framework/Versions/3.13/lib/python3.13/site-packages (4.12.0.88)\n",
      "Requirement already satisfied: numpy<2.3.0,>=2 in /Library/Frameworks/Python.framework/Versions/3.13/lib/python3.13/site-packages (from opencv-python) (2.1.2)\n",
      "\n",
      "\u001b[1m[\u001b[0m\u001b[34;49mnotice\u001b[0m\u001b[1;39;49m]\u001b[0m\u001b[39;49m A new release of pip is available: \u001b[0m\u001b[31;49m25.1.1\u001b[0m\u001b[39;49m -> \u001b[0m\u001b[32;49m25.2\u001b[0m\n",
      "\u001b[1m[\u001b[0m\u001b[34;49mnotice\u001b[0m\u001b[1;39;49m]\u001b[0m\u001b[39;49m To update, run: \u001b[0m\u001b[32;49mpip3.13 install --upgrade pip\u001b[0m\n",
      "Note: you may need to restart the kernel to use updated packages.\n"
     ]
    }
   ],
   "source": [
    "pip install opencv-python"
   ]
  },
  {
   "cell_type": "code",
   "execution_count": 2,
   "id": "ffd06cc3-09ce-4076-afa9-edcd4bec505b",
   "metadata": {},
   "outputs": [],
   "source": [
    "# Gerekli kütüphaneler\n",
    "import cv2\n",
    "from datetime import datetime, timedelta\n",
    "import os"
   ]
  },
  {
   "cell_type": "code",
   "execution_count": 3,
   "id": "479e08f8-2bc5-4b3e-8c51-0c49d39fbfd1",
   "metadata": {},
   "outputs": [],
   "source": [
    "# Video dosyaları giriş-çıkış eşlemesi\n",
    "video_files = [\n",
    "    (\"/Users/kevserrkahraman/Desktop/VİDEO_PRPJECT/videos/inputv1.mp4\", \"/Users/kevserrkahraman/Desktop/VİDEO_PRPJECT/videos/outputv1.mp4\"),\n",
    "    (\"/Users/kevserrkahraman/Desktop/VİDEO_PRPJECT/videos/inputv2.mp4\", \"/Users/kevserrkahraman/Desktop/VİDEO_PRPJECT/videos/outputv2.mp4\"),\n",
    "    (\"/Users/kevserrkahraman/Desktop/VİDEO_PRPJECT/videos/inputv3.mp4\", \"/Users/kevserrkahraman/Desktop/VİDEO_PRPJECT/videos/outputv3.mp4\")\n",
    "]\n",
    "\n",
    "# Klasör yoksa oluşturmak için \n",
    "os.makedirs(\"videos\", exist_ok=True)"
   ]
  },
  {
   "cell_type": "code",
   "execution_count": 4,
   "id": "bd802ec5-08d9-4a06-9396-01a8356b9c8a",
   "metadata": {},
   "outputs": [
    {
     "name": "stdout",
     "output_type": "stream",
     "text": [
      " Tamamlandı: /Users/kevserrkahraman/Desktop/VİDEO_PRPJECT/videos/outputv1.mp4\n",
      " Tamamlandı: /Users/kevserrkahraman/Desktop/VİDEO_PRPJECT/videos/outputv2.mp4\n",
      " Tamamlandı: /Users/kevserrkahraman/Desktop/VİDEO_PRPJECT/videos/outputv3.mp4\n",
      " Tüm videolar işlendi.\n"
     ]
    }
   ],
   "source": [
    "# İşlenecek videoların giriş ve çıkış yollarını video_files listesinde tanımlama\n",
    "for input_path, output_path in video_files:\n",
    "    \n",
    "    # Giriş videosunu açma\n",
    "    cap = cv2.VideoCapture(input_path)\n",
    "\n",
    "    # Video açılamadıysa uyarı ver ve diğer videoya geç\n",
    "    if not cap.isOpened():\n",
    "        print(f\" Video açılamadı: {input_path}\")\n",
    "        continue\n",
    "\n",
    "    # Video genişlik, yükseklik ve FPS değerlerini alma\n",
    "    width  = int(cap.get(cv2.CAP_PROP_FRAME_WIDTH))\n",
    "    height = int(cap.get(cv2.CAP_PROP_FRAME_HEIGHT))\n",
    "    fps    = cap.get(cv2.CAP_PROP_FPS)\n",
    "\n",
    "    # Çıkış videosu için codec (mp4v) tanımla\n",
    "    fourcc = cv2.VideoWriter_fourcc(*'mp4v')\n",
    "\n",
    "    # Çıkış videosunu oluşturma\n",
    "    out = cv2.VideoWriter(output_path, fourcc, fps, (width, height))\n",
    "\n",
    "    frame_index = 0\n",
    "    start_time = datetime.now()  # Video başlangıç zamanı\n",
    "\n",
    "    \n",
    "    # Video karelerini tek tek işleme\n",
    "    while True:\n",
    "        # Bir kare okuma\n",
    "        ret, frame = cap.read()\n",
    "        if not ret:\n",
    "            # Kare yoksa video bitmiş, döngüden çıkma\n",
    "            break\n",
    "\n",
    "        # Video içinde geçen süre\n",
    "        elapsed_seconds = frame_index / fps\n",
    "        now = (start_time + timedelta(seconds=elapsed_seconds)).strftime(\"%Y-%m-%d %H:%M:%S\")\n",
    "        \n",
    "\n",
    "        # Tarih-saat bilgisini sol üst köşeye yazma\n",
    "        cv2.putText(frame, now, (10, 30), cv2.FONT_HERSHEY_SIMPLEX,\n",
    "                    1, (0, 255, 0), 2)\n",
    "\n",
    "        # Kareyi çıkış videosuna yazma\n",
    "        out.write(frame)\n",
    "\n",
    "    # Kaynakları serbest bırakma\n",
    "    cap.release()\n",
    "    out.release()\n",
    "    print(f\" Tamamlandı: {output_path}\")\n",
    "\n",
    "# Tüm videolar işlendikten sonra mesaj yazdırma\n",
    "print(\" Tüm videolar işlendi.\")\n"
   ]
  }
 ],
 "metadata": {
  "kernelspec": {
   "display_name": "Python 3 (ipykernel)",
   "language": "python",
   "name": "python3"
  },
  "language_info": {
   "codemirror_mode": {
    "name": "ipython",
    "version": 3
   },
   "file_extension": ".py",
   "mimetype": "text/x-python",
   "name": "python",
   "nbconvert_exporter": "python",
   "pygments_lexer": "ipython3",
   "version": "3.13.5"
  }
 },
 "nbformat": 4,
 "nbformat_minor": 5
}
